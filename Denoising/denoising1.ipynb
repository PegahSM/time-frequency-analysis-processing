{
 "cells": [
  {
   "cell_type": "code",
   "execution_count": 1,
   "metadata": {},
   "outputs": [],
   "source": [
    "%matplotlib inline"
   ]
  },
  {
   "cell_type": "code",
   "execution_count": null,
   "metadata": {},
   "outputs": [],
   "source": [
    "import matplotlib.pyplot as plt\n",
    "\n",
    "import os\n",
    "from skimage import io\n",
    "\n",
    "from skimage.restoration import (denoise_wavelet, estimate_sigma)\n",
    "from skimage import data, img_as_float\n",
    "from skimage.util import random_noise\n",
    "from skimage.measure import compare_psnr"
   ]
  },
  {
   "cell_type": "code",
   "execution_count": null,
   "metadata": {},
   "outputs": [],
   "source": [
    "pic=io.imread('lena.png',as_gray=True)\n",
    "print(pic.shape)"
   ]
  },
  {
   "cell_type": "code",
   "execution_count": null,
   "metadata": {},
   "outputs": [],
   "source": [
    "sigma = 0.12\n",
    "noisy = random_noise(pic, var=sigma**2)\n",
    "noisy.resize(pic.shape)\n",
    "print(noisy.shape)"
   ]
  },
  {
   "cell_type": "code",
   "execution_count": null,
   "metadata": {},
   "outputs": [],
   "source": [
    "sigma_est = estimate_sigma(noisy, multichannel=True, average_sigmas=True)"
   ]
  },
  {
   "cell_type": "code",
   "execution_count": null,
   "metadata": {},
   "outputs": [],
   "source": [
    "print(\"Estimated Gaussian noise standard deviation = {}\".format(sigma_est))\n"
   ]
  },
  {
   "cell_type": "code",
   "execution_count": null,
   "metadata": {},
   "outputs": [],
   "source": [
    "im_bayes = denoise_wavelet(noisy,method='BayesShrink', mode='soft')\n",
    "print(im_bayes.shape)"
   ]
  },
  {
   "cell_type": "code",
   "execution_count": null,
   "metadata": {},
   "outputs": [],
   "source": [
    "im_visushrink = denoise_wavelet(noisy,method='VisuShrink', mode='soft',\n",
    "                                sigma=sigma_est)\n",
    "im_visushrink2 = denoise_wavelet(noisy,method='VisuShrink', mode='soft',\n",
    "                                 sigma=sigma_est/2)\n",
    "im_visushrink4 = denoise_wavelet(noisy,method='VisuShrink', mode='soft',\n",
    "                                 sigma=sigma_est/4)"
   ]
  },
  {
   "cell_type": "code",
   "execution_count": null,
   "metadata": {},
   "outputs": [],
   "source": [
    "psnr_noisy = compare_psnr(pic , noisy)\n",
    "psnr_bayes = compare_psnr(pic , im_bayes)\n",
    "psnr_visushrink = compare_psnr(pic, im_visushrink)\n",
    "psnr_visushrink2 = compare_psnr(pic, im_visushrink2)\n",
    "psnr_visushrink4 = compare_psnr(pic, im_visushrink4)"
   ]
  },
  {
   "cell_type": "code",
   "execution_count": null,
   "metadata": {},
   "outputs": [],
   "source": [
    "plt.figure(figsize=(10, 10))\n",
    "plt.subplots_adjust(left=0.1, right=0.9, bottom=0.1, top=0.9, wspace=0.2, hspace=0.4)\n",
    "\n",
    "x=plt.subplot(231)\n",
    "x.imshow(pic)\n",
    "plt.title('original')\n",
    "y=plt.subplot(232)\n",
    "y.imshow(noisy)\n",
    "plt.title('Noisy\\nPSNR={:0.4g}'.format(psnr_noisy))\n",
    "z=plt.subplot(233)\n",
    "z.imshow(im_bayes)\n",
    "plt.title( 'Wavelet denoising\\n(BayesShrink)\\nPSNR={:0.4g}'.format(psnr_bayes))\n",
    "t=plt.subplot(234)\n",
    "t.imshow(im_visushrink)\n",
    "plt.title('Wavelet denoising\\n(VisuShrink, $\\sigma=\\sigma_{est}$)\\n'\n",
    "     'PSNR=%0.4g' % psnr_visushrink)\n",
    "l=plt.subplot(235)\n",
    "l.imshow(im_visushrink2)\n",
    "plt.title('Wavelet denoising\\n(VisuShrink, $\\sigma=\\sigma_{est}/4$)\\n'\n",
    "     'PSNR=%0.4g' % psnr_visushrink2)\n",
    "l=plt.subplot(236)\n",
    "l.imshow(im_visushrink4)\n",
    "plt.title('Wavelet denoising\\n(VisuShrink, $\\sigma=\\sigma_{est}/4$)\\n'\n",
    "     'PSNR=%0.4g' % psnr_visushrink4)\n",
    "\n",
    "plt.show()"
   ]
  },
  {
   "cell_type": "code",
   "execution_count": null,
   "metadata": {},
   "outputs": [],
   "source": []
  }
 ],
 "metadata": {
  "kernelspec": {
   "display_name": "Python 3",
   "language": "python",
   "name": "python3"
  },
  "language_info": {
   "codemirror_mode": {
    "name": "ipython",
    "version": 3
   },
   "file_extension": ".py",
   "mimetype": "text/x-python",
   "name": "python",
   "nbconvert_exporter": "python",
   "pygments_lexer": "ipython3",
   "version": "3.7.0"
  }
 },
 "nbformat": 4,
 "nbformat_minor": 2
}
